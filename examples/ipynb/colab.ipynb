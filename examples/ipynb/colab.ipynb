{
  "cells": [
    {
      "cell_type": "markdown",
      "metadata": {
        "id": "xYJFXKP9xhQM"
      },
      "source": [
        "## Clone Repo"
      ]
    },
    {
      "cell_type": "code",
      "execution_count": 1,
      "metadata": {
        "id": "hegwDOfffwzw",
        "outputId": "11980ee5-35f7-4d27-9549-a7774f39e744",
        "colab": {
          "base_uri": "https://localhost:8080/"
        }
      },
      "outputs": [
        {
          "output_type": "stream",
          "name": "stdout",
          "text": [
            "Cloning into 'ChatTTS'...\n",
            "remote: Enumerating objects: 2685, done.\u001b[K\n",
            "remote: Counting objects: 100% (765/765), done.\u001b[K\n",
            "remote: Compressing objects: 100% (312/312), done.\u001b[K\n",
            "remote: Total 2685 (delta 538), reused 454 (delta 453), pack-reused 1920 (from 3)\u001b[K\n",
            "Receiving objects: 100% (2685/2685), 8.02 MiB | 12.26 MiB/s, done.\n",
            "Resolving deltas: 100% (1608/1608), done.\n"
          ]
        }
      ],
      "source": [
        "!cd /content\n",
        "!rm -rf sample_data ChatTTS\n",
        "!git clone https://github.com/2noise/ChatTTS.git"
      ]
    },
    {
      "cell_type": "markdown",
      "metadata": {
        "id": "vHEarcdrHCnh"
      },
      "source": [
        "## Install Requirements"
      ]
    },
    {
      "cell_type": "code",
      "execution_count": 2,
      "metadata": {
        "id": "fo9H7t_THCni",
        "outputId": "0d9acce9-5c4a-4f00-da0c-44f3989c5c46",
        "colab": {
          "base_uri": "https://localhost:8080/"
        }
      },
      "outputs": [
        {
          "output_type": "stream",
          "name": "stdout",
          "text": [
            "Requirement already satisfied: numpy<2.0.0 in /usr/local/lib/python3.11/dist-packages (from -r /content/ChatTTS/requirements.txt (line 1)) (1.26.4)\n",
            "Requirement already satisfied: numba in /usr/local/lib/python3.11/dist-packages (from -r /content/ChatTTS/requirements.txt (line 2)) (0.60.0)\n",
            "Requirement already satisfied: torch>=2.1.0 in /usr/local/lib/python3.11/dist-packages (from -r /content/ChatTTS/requirements.txt (line 3)) (2.5.1+cu121)\n",
            "Requirement already satisfied: torchaudio in /usr/local/lib/python3.11/dist-packages (from -r /content/ChatTTS/requirements.txt (line 4)) (2.5.1+cu121)\n",
            "Requirement already satisfied: tqdm in /usr/local/lib/python3.11/dist-packages (from -r /content/ChatTTS/requirements.txt (line 5)) (4.67.1)\n",
            "Collecting vector_quantize_pytorch (from -r /content/ChatTTS/requirements.txt (line 6))\n",
            "  Downloading vector_quantize_pytorch-1.21.2-py3-none-any.whl.metadata (30 kB)\n",
            "Requirement already satisfied: transformers>=4.41.1 in /usr/local/lib/python3.11/dist-packages (from -r /content/ChatTTS/requirements.txt (line 7)) (4.47.1)\n",
            "Collecting vocos (from -r /content/ChatTTS/requirements.txt (line 8))\n",
            "  Downloading vocos-0.1.0-py3-none-any.whl.metadata (4.8 kB)\n",
            "Requirement already satisfied: IPython in /usr/local/lib/python3.11/dist-packages (from -r /content/ChatTTS/requirements.txt (line 9)) (7.34.0)\n",
            "Collecting gradio (from -r /content/ChatTTS/requirements.txt (line 10))\n",
            "  Downloading gradio-5.13.0-py3-none-any.whl.metadata (16 kB)\n",
            "Collecting pybase16384 (from -r /content/ChatTTS/requirements.txt (line 11))\n",
            "  Downloading pybase16384-0.3.7-cp311-cp311-manylinux_2_17_x86_64.manylinux2014_x86_64.whl.metadata (6.5 kB)\n",
            "Collecting pynini==2.1.5 (from -r /content/ChatTTS/requirements.txt (line 12))\n",
            "  Downloading pynini-2.1.5-cp311-cp311-manylinux_2_17_x86_64.manylinux2014_x86_64.whl.metadata (4.6 kB)\n",
            "Collecting WeTextProcessing (from -r /content/ChatTTS/requirements.txt (line 13))\n",
            "  Downloading WeTextProcessing-1.0.4.1-py3-none-any.whl.metadata (7.2 kB)\n",
            "Collecting nemo_text_processing (from -r /content/ChatTTS/requirements.txt (line 14))\n",
            "  Downloading nemo_text_processing-1.1.0-py3-none-any.whl.metadata (7.3 kB)\n",
            "Collecting av (from -r /content/ChatTTS/requirements.txt (line 15))\n",
            "  Downloading av-14.0.1-cp311-cp311-manylinux_2_17_x86_64.manylinux2014_x86_64.whl.metadata (4.5 kB)\n",
            "Collecting pydub (from -r /content/ChatTTS/requirements.txt (line 16))\n",
            "  Downloading pydub-0.25.1-py2.py3-none-any.whl.metadata (1.4 kB)\n",
            "Requirement already satisfied: Cython>=0.29 in /usr/local/lib/python3.11/dist-packages (from pynini==2.1.5->-r /content/ChatTTS/requirements.txt (line 12)) (3.0.11)\n",
            "Requirement already satisfied: llvmlite<0.44,>=0.43.0dev0 in /usr/local/lib/python3.11/dist-packages (from numba->-r /content/ChatTTS/requirements.txt (line 2)) (0.43.0)\n",
            "Requirement already satisfied: filelock in /usr/local/lib/python3.11/dist-packages (from torch>=2.1.0->-r /content/ChatTTS/requirements.txt (line 3)) (3.16.1)\n",
            "Requirement already satisfied: typing-extensions>=4.8.0 in /usr/local/lib/python3.11/dist-packages (from torch>=2.1.0->-r /content/ChatTTS/requirements.txt (line 3)) (4.12.2)\n",
            "Requirement already satisfied: networkx in /usr/local/lib/python3.11/dist-packages (from torch>=2.1.0->-r /content/ChatTTS/requirements.txt (line 3)) (3.4.2)\n",
            "Requirement already satisfied: jinja2 in /usr/local/lib/python3.11/dist-packages (from torch>=2.1.0->-r /content/ChatTTS/requirements.txt (line 3)) (3.1.5)\n",
            "Requirement already satisfied: fsspec in /usr/local/lib/python3.11/dist-packages (from torch>=2.1.0->-r /content/ChatTTS/requirements.txt (line 3)) (2024.10.0)\n",
            "Requirement already satisfied: nvidia-cuda-nvrtc-cu12==12.1.105 in /usr/local/lib/python3.11/dist-packages (from torch>=2.1.0->-r /content/ChatTTS/requirements.txt (line 3)) (12.1.105)\n",
            "Requirement already satisfied: nvidia-cuda-runtime-cu12==12.1.105 in /usr/local/lib/python3.11/dist-packages (from torch>=2.1.0->-r /content/ChatTTS/requirements.txt (line 3)) (12.1.105)\n",
            "Requirement already satisfied: nvidia-cuda-cupti-cu12==12.1.105 in /usr/local/lib/python3.11/dist-packages (from torch>=2.1.0->-r /content/ChatTTS/requirements.txt (line 3)) (12.1.105)\n",
            "Requirement already satisfied: nvidia-cudnn-cu12==9.1.0.70 in /usr/local/lib/python3.11/dist-packages (from torch>=2.1.0->-r /content/ChatTTS/requirements.txt (line 3)) (9.1.0.70)\n",
            "Requirement already satisfied: nvidia-cublas-cu12==12.1.3.1 in /usr/local/lib/python3.11/dist-packages (from torch>=2.1.0->-r /content/ChatTTS/requirements.txt (line 3)) (12.1.3.1)\n",
            "Requirement already satisfied: nvidia-cufft-cu12==11.0.2.54 in /usr/local/lib/python3.11/dist-packages (from torch>=2.1.0->-r /content/ChatTTS/requirements.txt (line 3)) (11.0.2.54)\n",
            "Requirement already satisfied: nvidia-curand-cu12==10.3.2.106 in /usr/local/lib/python3.11/dist-packages (from torch>=2.1.0->-r /content/ChatTTS/requirements.txt (line 3)) (10.3.2.106)\n",
            "Requirement already satisfied: nvidia-cusolver-cu12==11.4.5.107 in /usr/local/lib/python3.11/dist-packages (from torch>=2.1.0->-r /content/ChatTTS/requirements.txt (line 3)) (11.4.5.107)\n",
            "Requirement already satisfied: nvidia-cusparse-cu12==12.1.0.106 in /usr/local/lib/python3.11/dist-packages (from torch>=2.1.0->-r /content/ChatTTS/requirements.txt (line 3)) (12.1.0.106)\n",
            "Requirement already satisfied: nvidia-nccl-cu12==2.21.5 in /usr/local/lib/python3.11/dist-packages (from torch>=2.1.0->-r /content/ChatTTS/requirements.txt (line 3)) (2.21.5)\n",
            "Requirement already satisfied: nvidia-nvtx-cu12==12.1.105 in /usr/local/lib/python3.11/dist-packages (from torch>=2.1.0->-r /content/ChatTTS/requirements.txt (line 3)) (12.1.105)\n",
            "Requirement already satisfied: triton==3.1.0 in /usr/local/lib/python3.11/dist-packages (from torch>=2.1.0->-r /content/ChatTTS/requirements.txt (line 3)) (3.1.0)\n",
            "Requirement already satisfied: sympy==1.13.1 in /usr/local/lib/python3.11/dist-packages (from torch>=2.1.0->-r /content/ChatTTS/requirements.txt (line 3)) (1.13.1)\n",
            "Requirement already satisfied: nvidia-nvjitlink-cu12 in /usr/local/lib/python3.11/dist-packages (from nvidia-cusolver-cu12==11.4.5.107->torch>=2.1.0->-r /content/ChatTTS/requirements.txt (line 3)) (12.6.85)\n",
            "Requirement already satisfied: mpmath<1.4,>=1.1.0 in /usr/local/lib/python3.11/dist-packages (from sympy==1.13.1->torch>=2.1.0->-r /content/ChatTTS/requirements.txt (line 3)) (1.3.0)\n",
            "Requirement already satisfied: einops>=0.8.0 in /usr/local/lib/python3.11/dist-packages (from vector_quantize_pytorch->-r /content/ChatTTS/requirements.txt (line 6)) (0.8.0)\n",
            "Collecting einx>=0.3.0 (from vector_quantize_pytorch->-r /content/ChatTTS/requirements.txt (line 6))\n",
            "  Downloading einx-0.3.0-py3-none-any.whl.metadata (6.9 kB)\n",
            "Requirement already satisfied: huggingface-hub<1.0,>=0.24.0 in /usr/local/lib/python3.11/dist-packages (from transformers>=4.41.1->-r /content/ChatTTS/requirements.txt (line 7)) (0.27.1)\n",
            "Requirement already satisfied: packaging>=20.0 in /usr/local/lib/python3.11/dist-packages (from transformers>=4.41.1->-r /content/ChatTTS/requirements.txt (line 7)) (24.2)\n",
            "Requirement already satisfied: pyyaml>=5.1 in /usr/local/lib/python3.11/dist-packages (from transformers>=4.41.1->-r /content/ChatTTS/requirements.txt (line 7)) (6.0.2)\n",
            "Requirement already satisfied: regex!=2019.12.17 in /usr/local/lib/python3.11/dist-packages (from transformers>=4.41.1->-r /content/ChatTTS/requirements.txt (line 7)) (2024.11.6)\n",
            "Requirement already satisfied: requests in /usr/local/lib/python3.11/dist-packages (from transformers>=4.41.1->-r /content/ChatTTS/requirements.txt (line 7)) (2.32.3)\n",
            "Requirement already satisfied: tokenizers<0.22,>=0.21 in /usr/local/lib/python3.11/dist-packages (from transformers>=4.41.1->-r /content/ChatTTS/requirements.txt (line 7)) (0.21.0)\n",
            "Requirement already satisfied: safetensors>=0.4.1 in /usr/local/lib/python3.11/dist-packages (from transformers>=4.41.1->-r /content/ChatTTS/requirements.txt (line 7)) (0.5.2)\n",
            "Requirement already satisfied: scipy in /usr/local/lib/python3.11/dist-packages (from vocos->-r /content/ChatTTS/requirements.txt (line 8)) (1.13.1)\n",
            "Collecting encodec==0.1.1 (from vocos->-r /content/ChatTTS/requirements.txt (line 8))\n",
            "  Downloading encodec-0.1.1.tar.gz (3.7 MB)\n",
            "\u001b[2K     \u001b[90m━━━━━━━━━━━━━━━━━━━━━━━━━━━━━━━━━━━━━━━━\u001b[0m \u001b[32m3.7/3.7 MB\u001b[0m \u001b[31m52.5 MB/s\u001b[0m eta \u001b[36m0:00:00\u001b[0m\n",
            "\u001b[?25h  Preparing metadata (setup.py) ... \u001b[?25l\u001b[?25hdone\n",
            "Requirement already satisfied: setuptools>=18.5 in /usr/local/lib/python3.11/dist-packages (from IPython->-r /content/ChatTTS/requirements.txt (line 9)) (75.1.0)\n",
            "Collecting jedi>=0.16 (from IPython->-r /content/ChatTTS/requirements.txt (line 9))\n",
            "  Downloading jedi-0.19.2-py2.py3-none-any.whl.metadata (22 kB)\n",
            "Requirement already satisfied: decorator in /usr/local/lib/python3.11/dist-packages (from IPython->-r /content/ChatTTS/requirements.txt (line 9)) (4.4.2)\n",
            "Requirement already satisfied: pickleshare in /usr/local/lib/python3.11/dist-packages (from IPython->-r /content/ChatTTS/requirements.txt (line 9)) (0.7.5)\n",
            "Requirement already satisfied: traitlets>=4.2 in /usr/local/lib/python3.11/dist-packages (from IPython->-r /content/ChatTTS/requirements.txt (line 9)) (5.7.1)\n",
            "Requirement already satisfied: prompt-toolkit!=3.0.0,!=3.0.1,<3.1.0,>=2.0.0 in /usr/local/lib/python3.11/dist-packages (from IPython->-r /content/ChatTTS/requirements.txt (line 9)) (3.0.48)\n",
            "Requirement already satisfied: pygments in /usr/local/lib/python3.11/dist-packages (from IPython->-r /content/ChatTTS/requirements.txt (line 9)) (2.18.0)\n",
            "Requirement already satisfied: backcall in /usr/local/lib/python3.11/dist-packages (from IPython->-r /content/ChatTTS/requirements.txt (line 9)) (0.2.0)\n",
            "Requirement already satisfied: matplotlib-inline in /usr/local/lib/python3.11/dist-packages (from IPython->-r /content/ChatTTS/requirements.txt (line 9)) (0.1.7)\n",
            "Requirement already satisfied: pexpect>4.3 in /usr/local/lib/python3.11/dist-packages (from IPython->-r /content/ChatTTS/requirements.txt (line 9)) (4.9.0)\n",
            "Collecting aiofiles<24.0,>=22.0 (from gradio->-r /content/ChatTTS/requirements.txt (line 10))\n",
            "  Downloading aiofiles-23.2.1-py3-none-any.whl.metadata (9.7 kB)\n",
            "Requirement already satisfied: anyio<5.0,>=3.0 in /usr/local/lib/python3.11/dist-packages (from gradio->-r /content/ChatTTS/requirements.txt (line 10)) (3.7.1)\n",
            "Collecting fastapi<1.0,>=0.115.2 (from gradio->-r /content/ChatTTS/requirements.txt (line 10))\n",
            "  Downloading fastapi-0.115.7-py3-none-any.whl.metadata (27 kB)\n",
            "Collecting ffmpy (from gradio->-r /content/ChatTTS/requirements.txt (line 10))\n",
            "  Downloading ffmpy-0.5.0-py3-none-any.whl.metadata (3.0 kB)\n",
            "Collecting gradio-client==1.6.0 (from gradio->-r /content/ChatTTS/requirements.txt (line 10))\n",
            "  Downloading gradio_client-1.6.0-py3-none-any.whl.metadata (7.1 kB)\n",
            "Requirement already satisfied: httpx>=0.24.1 in /usr/local/lib/python3.11/dist-packages (from gradio->-r /content/ChatTTS/requirements.txt (line 10)) (0.28.1)\n",
            "Collecting markupsafe~=2.0 (from gradio->-r /content/ChatTTS/requirements.txt (line 10))\n",
            "  Downloading MarkupSafe-2.1.5-cp311-cp311-manylinux_2_17_x86_64.manylinux2014_x86_64.whl.metadata (3.0 kB)\n",
            "Requirement already satisfied: orjson~=3.0 in /usr/local/lib/python3.11/dist-packages (from gradio->-r /content/ChatTTS/requirements.txt (line 10)) (3.10.14)\n",
            "Requirement already satisfied: pandas<3.0,>=1.0 in /usr/local/lib/python3.11/dist-packages (from gradio->-r /content/ChatTTS/requirements.txt (line 10)) (2.2.2)\n",
            "Requirement already satisfied: pillow<12.0,>=8.0 in /usr/local/lib/python3.11/dist-packages (from gradio->-r /content/ChatTTS/requirements.txt (line 10)) (11.1.0)\n",
            "Requirement already satisfied: pydantic>=2.0 in /usr/local/lib/python3.11/dist-packages (from gradio->-r /content/ChatTTS/requirements.txt (line 10)) (2.10.5)\n",
            "Collecting python-multipart>=0.0.18 (from gradio->-r /content/ChatTTS/requirements.txt (line 10))\n",
            "  Downloading python_multipart-0.0.20-py3-none-any.whl.metadata (1.8 kB)\n",
            "Collecting ruff>=0.2.2 (from gradio->-r /content/ChatTTS/requirements.txt (line 10))\n",
            "  Downloading ruff-0.9.2-py3-none-manylinux_2_17_x86_64.manylinux2014_x86_64.whl.metadata (25 kB)\n",
            "Collecting safehttpx<0.2.0,>=0.1.6 (from gradio->-r /content/ChatTTS/requirements.txt (line 10))\n",
            "  Downloading safehttpx-0.1.6-py3-none-any.whl.metadata (4.2 kB)\n",
            "Collecting semantic-version~=2.0 (from gradio->-r /content/ChatTTS/requirements.txt (line 10))\n",
            "  Downloading semantic_version-2.10.0-py2.py3-none-any.whl.metadata (9.7 kB)\n",
            "Collecting starlette<1.0,>=0.40.0 (from gradio->-r /content/ChatTTS/requirements.txt (line 10))\n",
            "  Downloading starlette-0.45.2-py3-none-any.whl.metadata (6.3 kB)\n",
            "Collecting tomlkit<0.14.0,>=0.12.0 (from gradio->-r /content/ChatTTS/requirements.txt (line 10))\n",
            "  Downloading tomlkit-0.13.2-py3-none-any.whl.metadata (2.7 kB)\n",
            "Requirement already satisfied: typer<1.0,>=0.12 in /usr/local/lib/python3.11/dist-packages (from gradio->-r /content/ChatTTS/requirements.txt (line 10)) (0.15.1)\n",
            "Collecting uvicorn>=0.14.0 (from gradio->-r /content/ChatTTS/requirements.txt (line 10))\n",
            "  Downloading uvicorn-0.34.0-py3-none-any.whl.metadata (6.5 kB)\n",
            "Requirement already satisfied: websockets<15.0,>=10.0 in /usr/local/lib/python3.11/dist-packages (from gradio-client==1.6.0->gradio->-r /content/ChatTTS/requirements.txt (line 10)) (14.1)\n",
            "Requirement already satisfied: cffi>=1.0.0 in /usr/local/lib/python3.11/dist-packages (from pybase16384->-r /content/ChatTTS/requirements.txt (line 11)) (1.17.1)\n",
            "INFO: pip is looking at multiple versions of wetextprocessing to determine which version is compatible with other requirements. This could take a while.\n",
            "Collecting WeTextProcessing (from -r /content/ChatTTS/requirements.txt (line 13))\n",
            "  Downloading WeTextProcessing-1.0.3-py3-none-any.whl.metadata (7.2 kB)\n",
            "Requirement already satisfied: importlib-resources in /usr/local/lib/python3.11/dist-packages (from WeTextProcessing->-r /content/ChatTTS/requirements.txt (line 13)) (6.5.2)\n",
            "Collecting cdifflib (from nemo_text_processing->-r /content/ChatTTS/requirements.txt (line 14))\n",
            "  Downloading cdifflib-1.2.9.tar.gz (12 kB)\n",
            "  Installing build dependencies ... \u001b[?25l\u001b[?25hdone\n",
            "  Getting requirements to build wheel ... \u001b[?25l\u001b[?25hdone\n",
            "  Preparing metadata (pyproject.toml) ... \u001b[?25l\u001b[?25hdone\n",
            "Requirement already satisfied: editdistance in /usr/local/lib/python3.11/dist-packages (from nemo_text_processing->-r /content/ChatTTS/requirements.txt (line 14)) (0.8.1)\n",
            "Requirement already satisfied: inflect in /usr/local/lib/python3.11/dist-packages (from nemo_text_processing->-r /content/ChatTTS/requirements.txt (line 14)) (7.5.0)\n",
            "Requirement already satisfied: joblib in /usr/local/lib/python3.11/dist-packages (from nemo_text_processing->-r /content/ChatTTS/requirements.txt (line 14)) (1.4.2)\n",
            "INFO: pip is looking at multiple versions of nemo-text-processing to determine which version is compatible with other requirements. This could take a while.\n",
            "Collecting nemo_text_processing (from -r /content/ChatTTS/requirements.txt (line 14))\n",
            "  Downloading nemo_text_processing-1.0.2-py3-none-any.whl.metadata (7.2 kB)\n",
            "Collecting sacremoses>=0.0.43 (from nemo_text_processing->-r /content/ChatTTS/requirements.txt (line 14))\n",
            "  Downloading sacremoses-0.1.1-py3-none-any.whl.metadata (8.3 kB)\n",
            "Collecting wget (from nemo_text_processing->-r /content/ChatTTS/requirements.txt (line 14))\n",
            "  Downloading wget-3.2.zip (10 kB)\n",
            "  Preparing metadata (setup.py) ... \u001b[?25l\u001b[?25hdone\n",
            "Requirement already satisfied: wrapt in /usr/local/lib/python3.11/dist-packages (from nemo_text_processing->-r /content/ChatTTS/requirements.txt (line 14)) (1.17.0)\n",
            "Requirement already satisfied: idna>=2.8 in /usr/local/lib/python3.11/dist-packages (from anyio<5.0,>=3.0->gradio->-r /content/ChatTTS/requirements.txt (line 10)) (3.10)\n",
            "Requirement already satisfied: sniffio>=1.1 in /usr/local/lib/python3.11/dist-packages (from anyio<5.0,>=3.0->gradio->-r /content/ChatTTS/requirements.txt (line 10)) (1.3.1)\n",
            "Requirement already satisfied: pycparser in /usr/local/lib/python3.11/dist-packages (from cffi>=1.0.0->pybase16384->-r /content/ChatTTS/requirements.txt (line 11)) (2.22)\n",
            "Requirement already satisfied: frozendict in /usr/local/lib/python3.11/dist-packages (from einx>=0.3.0->vector_quantize_pytorch->-r /content/ChatTTS/requirements.txt (line 6)) (2.4.6)\n",
            "Requirement already satisfied: certifi in /usr/local/lib/python3.11/dist-packages (from httpx>=0.24.1->gradio->-r /content/ChatTTS/requirements.txt (line 10)) (2024.12.14)\n",
            "Requirement already satisfied: httpcore==1.* in /usr/local/lib/python3.11/dist-packages (from httpx>=0.24.1->gradio->-r /content/ChatTTS/requirements.txt (line 10)) (1.0.7)\n",
            "Requirement already satisfied: h11<0.15,>=0.13 in /usr/local/lib/python3.11/dist-packages (from httpcore==1.*->httpx>=0.24.1->gradio->-r /content/ChatTTS/requirements.txt (line 10)) (0.14.0)\n",
            "Requirement already satisfied: parso<0.9.0,>=0.8.4 in /usr/local/lib/python3.11/dist-packages (from jedi>=0.16->IPython->-r /content/ChatTTS/requirements.txt (line 9)) (0.8.4)\n",
            "Requirement already satisfied: python-dateutil>=2.8.2 in /usr/local/lib/python3.11/dist-packages (from pandas<3.0,>=1.0->gradio->-r /content/ChatTTS/requirements.txt (line 10)) (2.8.2)\n",
            "Requirement already satisfied: pytz>=2020.1 in /usr/local/lib/python3.11/dist-packages (from pandas<3.0,>=1.0->gradio->-r /content/ChatTTS/requirements.txt (line 10)) (2024.2)\n",
            "Requirement already satisfied: tzdata>=2022.7 in /usr/local/lib/python3.11/dist-packages (from pandas<3.0,>=1.0->gradio->-r /content/ChatTTS/requirements.txt (line 10)) (2024.2)\n",
            "Requirement already satisfied: ptyprocess>=0.5 in /usr/local/lib/python3.11/dist-packages (from pexpect>4.3->IPython->-r /content/ChatTTS/requirements.txt (line 9)) (0.7.0)\n",
            "Requirement already satisfied: wcwidth in /usr/local/lib/python3.11/dist-packages (from prompt-toolkit!=3.0.0,!=3.0.1,<3.1.0,>=2.0.0->IPython->-r /content/ChatTTS/requirements.txt (line 9)) (0.2.13)\n",
            "Requirement already satisfied: annotated-types>=0.6.0 in /usr/local/lib/python3.11/dist-packages (from pydantic>=2.0->gradio->-r /content/ChatTTS/requirements.txt (line 10)) (0.7.0)\n",
            "Requirement already satisfied: pydantic-core==2.27.2 in /usr/local/lib/python3.11/dist-packages (from pydantic>=2.0->gradio->-r /content/ChatTTS/requirements.txt (line 10)) (2.27.2)\n",
            "Requirement already satisfied: click in /usr/local/lib/python3.11/dist-packages (from sacremoses>=0.0.43->nemo_text_processing->-r /content/ChatTTS/requirements.txt (line 14)) (8.1.8)\n",
            "Requirement already satisfied: shellingham>=1.3.0 in /usr/local/lib/python3.11/dist-packages (from typer<1.0,>=0.12->gradio->-r /content/ChatTTS/requirements.txt (line 10)) (1.5.4)\n",
            "Requirement already satisfied: rich>=10.11.0 in /usr/local/lib/python3.11/dist-packages (from typer<1.0,>=0.12->gradio->-r /content/ChatTTS/requirements.txt (line 10)) (13.9.4)\n",
            "Requirement already satisfied: more_itertools>=8.5.0 in /usr/local/lib/python3.11/dist-packages (from inflect->nemo_text_processing->-r /content/ChatTTS/requirements.txt (line 14)) (10.5.0)\n",
            "Requirement already satisfied: typeguard>=4.0.1 in /usr/local/lib/python3.11/dist-packages (from inflect->nemo_text_processing->-r /content/ChatTTS/requirements.txt (line 14)) (4.4.1)\n",
            "Requirement already satisfied: charset-normalizer<4,>=2 in /usr/local/lib/python3.11/dist-packages (from requests->transformers>=4.41.1->-r /content/ChatTTS/requirements.txt (line 7)) (3.4.1)\n",
            "Requirement already satisfied: urllib3<3,>=1.21.1 in /usr/local/lib/python3.11/dist-packages (from requests->transformers>=4.41.1->-r /content/ChatTTS/requirements.txt (line 7)) (2.3.0)\n",
            "Requirement already satisfied: six>=1.5 in /usr/local/lib/python3.11/dist-packages (from python-dateutil>=2.8.2->pandas<3.0,>=1.0->gradio->-r /content/ChatTTS/requirements.txt (line 10)) (1.17.0)\n",
            "Requirement already satisfied: markdown-it-py>=2.2.0 in /usr/local/lib/python3.11/dist-packages (from rich>=10.11.0->typer<1.0,>=0.12->gradio->-r /content/ChatTTS/requirements.txt (line 10)) (3.0.0)\n",
            "Requirement already satisfied: mdurl~=0.1 in /usr/local/lib/python3.11/dist-packages (from markdown-it-py>=2.2.0->rich>=10.11.0->typer<1.0,>=0.12->gradio->-r /content/ChatTTS/requirements.txt (line 10)) (0.1.2)\n",
            "Downloading pynini-2.1.5-cp311-cp311-manylinux_2_17_x86_64.manylinux2014_x86_64.whl (154.7 MB)\n",
            "\u001b[2K   \u001b[90m━━━━━━━━━━━━━━━━━━━━━━━━━━━━━━━━━━━━━━━━\u001b[0m \u001b[32m154.7/154.7 MB\u001b[0m \u001b[31m7.0 MB/s\u001b[0m eta \u001b[36m0:00:00\u001b[0m\n",
            "\u001b[?25hDownloading vector_quantize_pytorch-1.21.2-py3-none-any.whl (47 kB)\n",
            "\u001b[2K   \u001b[90m━━━━━━━━━━━━━━━━━━━━━━━━━━━━━━━━━━━━━━━━\u001b[0m \u001b[32m47.3/47.3 kB\u001b[0m \u001b[31m4.1 MB/s\u001b[0m eta \u001b[36m0:00:00\u001b[0m\n",
            "\u001b[?25hDownloading vocos-0.1.0-py3-none-any.whl (24 kB)\n",
            "Downloading gradio-5.13.0-py3-none-any.whl (57.6 MB)\n",
            "\u001b[2K   \u001b[90m━━━━━━━━━━━━━━━━━━━━━━━━━━━━━━━━━━━━━━━━\u001b[0m \u001b[32m57.6/57.6 MB\u001b[0m \u001b[31m16.1 MB/s\u001b[0m eta \u001b[36m0:00:00\u001b[0m\n",
            "\u001b[?25hDownloading gradio_client-1.6.0-py3-none-any.whl (321 kB)\n",
            "\u001b[2K   \u001b[90m━━━━━━━━━━━━━━━━━━━━━━━━━━━━━━━━━━━━━━━━\u001b[0m \u001b[32m321.8/321.8 kB\u001b[0m \u001b[31m21.8 MB/s\u001b[0m eta \u001b[36m0:00:00\u001b[0m\n",
            "\u001b[?25hDownloading pybase16384-0.3.7-cp311-cp311-manylinux_2_17_x86_64.manylinux2014_x86_64.whl (352 kB)\n",
            "\u001b[2K   \u001b[90m━━━━━━━━━━━━━━━━━━━━━━━━━━━━━━━━━━━━━━━━\u001b[0m \u001b[32m352.5/352.5 kB\u001b[0m \u001b[31m19.0 MB/s\u001b[0m eta \u001b[36m0:00:00\u001b[0m\n",
            "\u001b[?25hDownloading WeTextProcessing-1.0.3-py3-none-any.whl (2.0 MB)\n",
            "\u001b[2K   \u001b[90m━━━━━━━━━━━━━━━━━━━━━━━━━━━━━━━━━━━━━━━━\u001b[0m \u001b[32m2.0/2.0 MB\u001b[0m \u001b[31m39.2 MB/s\u001b[0m eta \u001b[36m0:00:00\u001b[0m\n",
            "\u001b[?25hDownloading nemo_text_processing-1.0.2-py3-none-any.whl (2.6 MB)\n",
            "\u001b[2K   \u001b[90m━━━━━━━━━━━━━━━━━━━━━━━━━━━━━━━━━━━━━━━━\u001b[0m \u001b[32m2.6/2.6 MB\u001b[0m \u001b[31m13.9 MB/s\u001b[0m eta \u001b[36m0:00:00\u001b[0m\n",
            "\u001b[?25hDownloading av-14.0.1-cp311-cp311-manylinux_2_17_x86_64.manylinux2014_x86_64.whl (33.8 MB)\n",
            "\u001b[2K   \u001b[90m━━━━━━━━━━━━━━━━━━━━━━━━━━━━━━━━━━━━━━━━\u001b[0m \u001b[32m33.8/33.8 MB\u001b[0m \u001b[31m13.8 MB/s\u001b[0m eta \u001b[36m0:00:00\u001b[0m\n",
            "\u001b[?25hDownloading pydub-0.25.1-py2.py3-none-any.whl (32 kB)\n",
            "Downloading aiofiles-23.2.1-py3-none-any.whl (15 kB)\n",
            "Downloading einx-0.3.0-py3-none-any.whl (102 kB)\n",
            "\u001b[2K   \u001b[90m━━━━━━━━━━━━━━━━━━━━━━━━━━━━━━━━━━━━━━━━\u001b[0m \u001b[32m103.0/103.0 kB\u001b[0m \u001b[31m9.0 MB/s\u001b[0m eta \u001b[36m0:00:00\u001b[0m\n",
            "\u001b[?25hDownloading fastapi-0.115.7-py3-none-any.whl (94 kB)\n",
            "\u001b[2K   \u001b[90m━━━━━━━━━━━━━━━━━━━━━━━━━━━━━━━━━━━━━━━━\u001b[0m \u001b[32m94.8/94.8 kB\u001b[0m \u001b[31m9.3 MB/s\u001b[0m eta \u001b[36m0:00:00\u001b[0m\n",
            "\u001b[?25hDownloading jedi-0.19.2-py2.py3-none-any.whl (1.6 MB)\n",
            "\u001b[2K   \u001b[90m━━━━━━━━━━━━━━━━━━━━━━━━━━━━━━━━━━━━━━━━\u001b[0m \u001b[32m1.6/1.6 MB\u001b[0m \u001b[31m54.0 MB/s\u001b[0m eta \u001b[36m0:00:00\u001b[0m\n",
            "\u001b[?25hDownloading MarkupSafe-2.1.5-cp311-cp311-manylinux_2_17_x86_64.manylinux2014_x86_64.whl (28 kB)\n",
            "Downloading python_multipart-0.0.20-py3-none-any.whl (24 kB)\n",
            "Using cached ruff-0.9.2-py3-none-manylinux_2_17_x86_64.manylinux2014_x86_64.whl (12.4 MB)\n",
            "Downloading sacremoses-0.1.1-py3-none-any.whl (897 kB)\n",
            "\u001b[2K   \u001b[90m━━━━━━━━━━━━━━━━━━━━━━━━━━━━━━━━━━━━━━━━\u001b[0m \u001b[32m897.5/897.5 kB\u001b[0m \u001b[31m19.0 MB/s\u001b[0m eta \u001b[36m0:00:00\u001b[0m\n",
            "\u001b[?25hDownloading safehttpx-0.1.6-py3-none-any.whl (8.7 kB)\n",
            "Downloading semantic_version-2.10.0-py2.py3-none-any.whl (15 kB)\n",
            "Downloading starlette-0.45.2-py3-none-any.whl (71 kB)\n",
            "\u001b[2K   \u001b[90m━━━━━━━━━━━━━━━━━━━━━━━━━━━━━━━━━━━━━━━━\u001b[0m \u001b[32m71.5/71.5 kB\u001b[0m \u001b[31m3.3 MB/s\u001b[0m eta \u001b[36m0:00:00\u001b[0m\n",
            "\u001b[?25hDownloading tomlkit-0.13.2-py3-none-any.whl (37 kB)\n",
            "Downloading uvicorn-0.34.0-py3-none-any.whl (62 kB)\n",
            "\u001b[2K   \u001b[90m━━━━━━━━━━━━━━━━━━━━━━━━━━━━━━━━━━━━━━━━\u001b[0m \u001b[32m62.3/62.3 kB\u001b[0m \u001b[31m4.6 MB/s\u001b[0m eta \u001b[36m0:00:00\u001b[0m\n",
            "\u001b[?25hDownloading ffmpy-0.5.0-py3-none-any.whl (6.0 kB)\n",
            "Building wheels for collected packages: encodec, cdifflib, wget\n",
            "  Building wheel for encodec (setup.py) ... \u001b[?25l\u001b[?25hdone\n",
            "  Created wheel for encodec: filename=encodec-0.1.1-py3-none-any.whl size=45760 sha256=945a43d3d5471e9f800899948efaef00ba4ac57747efabfe990d3afdcb3b7e06\n",
            "  Stored in directory: /root/.cache/pip/wheels/b4/a4/88/480018a664e58ca7ce6708759193ee51b017b3b72aa3df8a85\n",
            "  Building wheel for cdifflib (pyproject.toml) ... \u001b[?25l\u001b[?25hdone\n",
            "  Created wheel for cdifflib: filename=cdifflib-1.2.9-cp311-cp311-linux_x86_64.whl size=28802 sha256=6ed622b72a5cea5719dcbab16b47e5a8e39ca876ca04f50ed52e4d31a56886b2\n",
            "  Stored in directory: /root/.cache/pip/wheels/1d/89/fa/9ac6480fd2400e5d7f4795b524c0d241eb8cdb921b72d5d102\n",
            "  Building wheel for wget (setup.py) ... \u001b[?25l\u001b[?25hdone\n",
            "  Created wheel for wget: filename=wget-3.2-py3-none-any.whl size=9656 sha256=538d862b0e15b9459c76fc8ab67375bc427417892e513fa2f11de8ad75c4fa96\n",
            "  Stored in directory: /root/.cache/pip/wheels/40/b3/0f/a40dbd1c6861731779f62cc4babcb234387e11d697df70ee97\n",
            "Successfully built encodec cdifflib wget\n",
            "Installing collected packages: wget, pydub, uvicorn, tomlkit, semantic-version, sacremoses, ruff, python-multipart, pynini, markupsafe, jedi, ffmpy, cdifflib, av, aiofiles, WeTextProcessing, starlette, pybase16384, einx, safehttpx, gradio-client, fastapi, vector_quantize_pytorch, gradio, nemo_text_processing, encodec, vocos\n",
            "  Attempting uninstall: markupsafe\n",
            "    Found existing installation: MarkupSafe 3.0.2\n",
            "    Uninstalling MarkupSafe-3.0.2:\n",
            "      Successfully uninstalled MarkupSafe-3.0.2\n",
            "Successfully installed WeTextProcessing-1.0.3 aiofiles-23.2.1 av-14.0.1 cdifflib-1.2.9 einx-0.3.0 encodec-0.1.1 fastapi-0.115.7 ffmpy-0.5.0 gradio-5.13.0 gradio-client-1.6.0 jedi-0.19.2 markupsafe-2.1.5 nemo_text_processing-1.0.2 pybase16384-0.3.7 pydub-0.25.1 pynini-2.1.5 python-multipart-0.0.20 ruff-0.9.2 sacremoses-0.1.1 safehttpx-0.1.6 semantic-version-2.10.0 starlette-0.45.2 tomlkit-0.13.2 uvicorn-0.34.0 vector_quantize_pytorch-1.21.2 vocos-0.1.0 wget-3.2\n",
            "/sbin/ldconfig.real: /usr/local/lib/libtbb.so.12 is not a symbolic link\n",
            "\n",
            "/sbin/ldconfig.real: /usr/local/lib/libtcm_debug.so.1 is not a symbolic link\n",
            "\n",
            "/sbin/ldconfig.real: /usr/local/lib/libtbbmalloc.so.2 is not a symbolic link\n",
            "\n",
            "/sbin/ldconfig.real: /usr/local/lib/libhwloc.so.15 is not a symbolic link\n",
            "\n",
            "/sbin/ldconfig.real: /usr/local/lib/libtbbmalloc_proxy.so.2 is not a symbolic link\n",
            "\n",
            "/sbin/ldconfig.real: /usr/local/lib/libumf.so.0 is not a symbolic link\n",
            "\n",
            "/sbin/ldconfig.real: /usr/local/lib/libtbbbind_2_0.so.3 is not a symbolic link\n",
            "\n",
            "/sbin/ldconfig.real: /usr/local/lib/libur_adapter_opencl.so.0 is not a symbolic link\n",
            "\n",
            "/sbin/ldconfig.real: /usr/local/lib/libtcm.so.1 is not a symbolic link\n",
            "\n",
            "/sbin/ldconfig.real: /usr/local/lib/libtbbbind_2_5.so.3 is not a symbolic link\n",
            "\n",
            "/sbin/ldconfig.real: /usr/local/lib/libur_loader.so.0 is not a symbolic link\n",
            "\n",
            "/sbin/ldconfig.real: /usr/local/lib/libtbbbind.so.3 is not a symbolic link\n",
            "\n",
            "/sbin/ldconfig.real: /usr/local/lib/libur_adapter_level_zero.so.0 is not a symbolic link\n",
            "\n"
          ]
        }
      ],
      "source": [
        "!pip install -r /content/ChatTTS/requirements.txt\n",
        "!ldconfig /usr/lib64-nvidia"
      ]
    },
    {
      "cell_type": "markdown",
      "metadata": {
        "id": "zdzEFoknxqTH"
      },
      "source": [
        "## Import Packages"
      ]
    },
    {
      "cell_type": "code",
      "execution_count": 3,
      "metadata": {
        "id": "lDSQ6Xf-bSre"
      },
      "outputs": [],
      "source": [
        "import torch\n",
        "\n",
        "torch._dynamo.config.cache_size_limit = 64\n",
        "torch._dynamo.config.suppress_errors = True\n",
        "torch.set_float32_matmul_precision(\"high\")\n",
        "\n",
        "from ChatTTS import ChatTTS\n",
        "from ChatTTS.tools.logger import get_logger\n",
        "from ChatTTS.tools.normalizer import normalizer_en_nemo_text, normalizer_zh_tn\n",
        "from IPython.display import Audio"
      ]
    },
    {
      "cell_type": "markdown",
      "metadata": {
        "id": "vBzG5gxcbSrf"
      },
      "source": [
        "## Load Models"
      ]
    },
    {
      "cell_type": "code",
      "execution_count": 4,
      "metadata": {
        "id": "e0QSkngRbSrg",
        "outputId": "75ceda52-6b4b-4baf-b814-a9b959a528d3",
        "colab": {
          "base_uri": "https://localhost:8080/"
        }
      },
      "outputs": [
        {
          "output_type": "stream",
          "name": "stderr",
          "text": [
            " NeMo-text-processing :: INFO     :: Creating ClassifyFst grammars.\n",
            "[+0000 20250123 12:27:04] [\u001b[37mINFO\u001b[0m] NeMo-text-processing | tokenize_and_classify | Creating ClassifyFst grammars.\n",
            "2025-01-23 12:27:36,715 WETEXT INFO found existing fst: /usr/local/lib/python3.11/dist-packages/tn/zh_tn_tagger.fst\n",
            "[+0000 20250123 12:27:36] [\u001b[37mINFO\u001b[0m] wetext-zh_normalizer | processor | found existing fst: /usr/local/lib/python3.11/dist-packages/tn/zh_tn_tagger.fst\n",
            "2025-01-23 12:27:36,720 WETEXT INFO                     /usr/local/lib/python3.11/dist-packages/tn/zh_tn_verbalizer.fst\n",
            "[+0000 20250123 12:27:36] [\u001b[37mINFO\u001b[0m] wetext-zh_normalizer | processor |                     /usr/local/lib/python3.11/dist-packages/tn/zh_tn_verbalizer.fst\n",
            "2025-01-23 12:27:36,724 WETEXT INFO skip building fst for zh_normalizer ...\n",
            "[+0000 20250123 12:27:36] [\u001b[37mINFO\u001b[0m] wetext-zh_normalizer | processor | skip building fst for zh_normalizer ...\n"
          ]
        }
      ],
      "source": [
        "logger = get_logger(\"ChatTTS\", format_root=True)\n",
        "chat = ChatTTS.Chat(logger)\n",
        "\n",
        "# try to load normalizer\n",
        "try:\n",
        "    chat.normalizer.register(\"en\", normalizer_en_nemo_text())\n",
        "except ValueError as e:\n",
        "    logger.error(e)\n",
        "except:\n",
        "    logger.warning(\"Package nemo_text_processing not found!\")\n",
        "    logger.warning(\n",
        "        \"Run: conda install -c conda-forge pynini=2.1.5 && pip install nemo_text_processing\",\n",
        "    )\n",
        "try:\n",
        "    chat.normalizer.register(\"zh\", normalizer_zh_tn())\n",
        "except ValueError as e:\n",
        "    logger.error(e)\n",
        "except:\n",
        "    logger.warning(\"Package WeTextProcessing not found!\")\n",
        "    logger.warning(\n",
        "        \"Run: conda install -c conda-forge pynini=2.1.5 && pip install WeTextProcessing\",\n",
        "    )"
      ]
    },
    {
      "cell_type": "markdown",
      "metadata": {
        "id": "3Ty427FZNH30"
      },
      "source": [
        "### Here are three choices for loading models,"
      ]
    },
    {
      "cell_type": "markdown",
      "metadata": {
        "id": "NInF7Lk1NH30"
      },
      "source": [
        "#### 1. Load models from Hugging Face (recommend)"
      ]
    },
    {
      "cell_type": "code",
      "execution_count": null,
      "metadata": {
        "id": "VVtNlNosNH30"
      },
      "outputs": [],
      "source": [
        "# use force_redownload=True if the weights have been updated.\n",
        "chat.load(source=\"huggingface\")"
      ]
    },
    {
      "cell_type": "markdown",
      "metadata": {
        "id": "AhBD5WUPNH30"
      },
      "source": [
        "#### 2. Load models from local directories 'asset' and 'config'"
      ]
    },
    {
      "cell_type": "code",
      "execution_count": null,
      "metadata": {
        "id": "83UwV6SGNH31"
      },
      "outputs": [],
      "source": [
        "chat.load()\n",
        "# chat.load(source='local') same as above"
      ]
    },
    {
      "cell_type": "markdown",
      "metadata": {
        "id": "c0qjGPNkNH31"
      },
      "source": [
        "#### 3. Load models from a custom path"
      ]
    },
    {
      "cell_type": "code",
      "execution_count": null,
      "metadata": {
        "id": "oCSBx0Q7NH31"
      },
      "outputs": [],
      "source": [
        "# write the model path into custom_path\n",
        "chat.load(source=\"custom\", custom_path=\"YOUR CUSTOM PATH\")"
      ]
    },
    {
      "cell_type": "markdown",
      "metadata": {
        "id": "VoEki3XMNH31"
      },
      "source": [
        "### You can also unload models to save the memory"
      ]
    },
    {
      "cell_type": "code",
      "execution_count": null,
      "metadata": {
        "id": "3FdsTSxoNH31"
      },
      "outputs": [],
      "source": [
        "chat.unload()"
      ]
    },
    {
      "cell_type": "markdown",
      "metadata": {
        "id": "bAUs0rGQbSrh"
      },
      "source": [
        "## Inference"
      ]
    },
    {
      "cell_type": "markdown",
      "metadata": {
        "id": "NPZ2SFksbSrh"
      },
      "source": [
        "### Batch infer"
      ]
    },
    {
      "cell_type": "code",
      "execution_count": null,
      "metadata": {
        "id": "Su9FmUYAbSrh"
      },
      "outputs": [],
      "source": [
        "texts = [\n",
        "    \"So we found being competitive and collaborative was a huge way of staying motivated towards our goals, so one person to call when you fall off, one person who gets you back on then one person to actually do the activity with.\",\n",
        "] * 3 + [\n",
        "    \"我觉得像我们这些写程序的人，他，我觉得多多少少可能会对开源有一种情怀在吧我觉得开源是一个很好的形式。现在其实最先进的技术掌握在一些公司的手里的话，就他们并不会轻易的开放给所有的人用。\"\n",
        "] * 3\n",
        "\n",
        "wavs = chat.infer(texts)"
      ]
    },
    {
      "cell_type": "code",
      "execution_count": null,
      "metadata": {
        "id": "YQRwB8lpbSri"
      },
      "outputs": [],
      "source": [
        "Audio(wavs[0], rate=24_000, autoplay=True)"
      ]
    },
    {
      "cell_type": "code",
      "execution_count": null,
      "metadata": {
        "id": "LuFG6m7AbSri"
      },
      "outputs": [],
      "source": [
        "Audio(wavs[3], rate=24_000, autoplay=True)"
      ]
    },
    {
      "cell_type": "markdown",
      "metadata": {
        "id": "oLhAGvkfbSrj"
      },
      "source": [
        "### Custom params"
      ]
    },
    {
      "cell_type": "code",
      "execution_count": null,
      "metadata": {
        "id": "kma0HBEBbSrj"
      },
      "outputs": [],
      "source": [
        "params_infer_code = ChatTTS.Chat.InferCodeParams(\n",
        "    prompt=\"[speed_5]\",\n",
        "    temperature=0.3,\n",
        ")\n",
        "params_refine_text = ChatTTS.Chat.RefineTextParams(\n",
        "    prompt=\"[oral_2][laugh_0][break_6]\",\n",
        ")\n",
        "\n",
        "wav = chat.infer(\n",
        "    \"四川美食可多了，有麻辣火锅、宫保鸡丁、麻婆豆腐、担担面、回锅肉、夫妻肺片等，每样都让人垂涎三尺。\",\n",
        "    params_refine_text=params_refine_text,\n",
        "    params_infer_code=params_infer_code,\n",
        ")"
      ]
    },
    {
      "cell_type": "code",
      "execution_count": null,
      "metadata": {
        "id": "Nl_mT9KpbSrj"
      },
      "outputs": [],
      "source": [
        "Audio(wav[0], rate=24_000, autoplay=True)"
      ]
    },
    {
      "cell_type": "markdown",
      "metadata": {
        "id": "JfAba-tTbSrk"
      },
      "source": [
        "### fix random speaker"
      ]
    },
    {
      "cell_type": "code",
      "execution_count": null,
      "metadata": {
        "id": "Qh7dcWrAbSrk"
      },
      "outputs": [],
      "source": [
        "rand_spk = chat.sample_random_speaker()\n",
        "print(rand_spk)  # save it for later timbre recovery\n",
        "\n",
        "params_infer_code = ChatTTS.Chat.InferCodeParams(\n",
        "    spk_emb=rand_spk,\n",
        ")\n",
        "\n",
        "wav = chat.infer(\n",
        "    \"四川美食确实以辣闻名，但也有不辣的选择。比如甜水面、赖汤圆、蛋烘糕、叶儿粑等，这些小吃口味温和，甜而不腻，也很受欢迎。\",\n",
        "    params_infer_code=params_infer_code,\n",
        ")"
      ]
    },
    {
      "cell_type": "code",
      "execution_count": null,
      "metadata": {
        "id": "0ljWDWzabSrk"
      },
      "outputs": [],
      "source": [
        "Audio(wav[0], rate=24_000, autoplay=True)"
      ]
    },
    {
      "cell_type": "markdown",
      "metadata": {
        "id": "YIpgv-fIHCnl"
      },
      "source": [
        "### Zero shot (simulate speaker)"
      ]
    },
    {
      "cell_type": "code",
      "execution_count": null,
      "metadata": {
        "id": "FSzQXQ6OHCnl"
      },
      "outputs": [],
      "source": [
        "from ChatTTS.tools.audio import load_audio\n",
        "\n",
        "spk_smp = chat.sample_audio_speaker(load_audio(\"sample.mp3\", 24000))\n",
        "print(spk_smp)  # save it in order to load the speaker without sample audio next time\n",
        "\n",
        "params_infer_code = ChatTTS.Chat.InferCodeParams(\n",
        "    spk_smp=spk_smp,\n",
        "    txt_smp=\"与sample.mp3内容完全一致的文本转写。\",\n",
        ")\n",
        "\n",
        "wav = chat.infer(\n",
        "    \"四川美食确实以辣闻名，但也有不辣的选择。比如甜水面、赖汤圆、蛋烘糕、叶儿粑等，这些小吃口味温和，甜而不腻，也很受欢迎。\",\n",
        "    params_infer_code=params_infer_code,\n",
        ")"
      ]
    },
    {
      "cell_type": "code",
      "execution_count": null,
      "metadata": {
        "id": "X9otidp6HCnl"
      },
      "outputs": [],
      "source": [
        "Audio(wav[0], rate=24_000, autoplay=True)"
      ]
    },
    {
      "cell_type": "markdown",
      "metadata": {
        "id": "u1q-BcUKbSrl"
      },
      "source": [
        "### Two stage control"
      ]
    },
    {
      "cell_type": "code",
      "execution_count": null,
      "metadata": {
        "id": "3hAAc0lJbSrl"
      },
      "outputs": [],
      "source": [
        "text = \"So we found being competitive and collaborative was a huge way of staying motivated towards our goals, so one person to call when you fall off, one person who gets you back on then one person to actually do the activity with.\"\n",
        "refined_text = chat.infer(text, refine_text_only=True)\n",
        "refined_text"
      ]
    },
    {
      "cell_type": "code",
      "execution_count": null,
      "metadata": {
        "id": "0GVJxhd3BKQX"
      },
      "outputs": [],
      "source": [
        "wav = chat.infer(refined_text, skip_refine_text=True)"
      ]
    },
    {
      "cell_type": "code",
      "execution_count": null,
      "metadata": {
        "id": "ngyMht74BicY"
      },
      "outputs": [],
      "source": [
        "Audio(wav[0], rate=24_000, autoplay=True)"
      ]
    },
    {
      "cell_type": "markdown",
      "metadata": {
        "id": "GG5AMbQbbSrl"
      },
      "source": [
        "## LLM Call"
      ]
    },
    {
      "cell_type": "code",
      "execution_count": null,
      "metadata": {
        "id": "3rkfwc3UbSrl"
      },
      "outputs": [],
      "source": [
        "from ChatTTS.tools.llm import ChatOpenAI\n",
        "\n",
        "API_KEY = \"\"\n",
        "client = ChatOpenAI(\n",
        "    api_key=API_KEY, base_url=\"https://api.deepseek.com\", model=\"deepseek-chat\"\n",
        ")"
      ]
    },
    {
      "cell_type": "code",
      "execution_count": null,
      "metadata": {
        "id": "TTkIsXozbSrm"
      },
      "outputs": [],
      "source": [
        "user_question = \"四川有哪些好吃的美食呢?\""
      ]
    },
    {
      "cell_type": "code",
      "execution_count": null,
      "metadata": {
        "id": "3yT8uNz-RVy1"
      },
      "outputs": [],
      "source": [
        "text = client.call(user_question, prompt_version=\"deepseek\")\n",
        "text"
      ]
    },
    {
      "cell_type": "code",
      "execution_count": null,
      "metadata": {
        "id": "6qddpv7lRW-3"
      },
      "outputs": [],
      "source": [
        "text = client.call(text, prompt_version=\"deepseek_TN\")\n",
        "text"
      ]
    },
    {
      "cell_type": "code",
      "execution_count": null,
      "metadata": {
        "id": "qNhCJG4VbSrm"
      },
      "outputs": [],
      "source": [
        "wav = chat.infer(text)"
      ]
    },
    {
      "cell_type": "code",
      "execution_count": null,
      "metadata": {
        "id": "Wq1XQHmFRQI3"
      },
      "outputs": [],
      "source": [
        "Audio(wav[0], rate=24_000, autoplay=True)"
      ]
    }
  ],
  "metadata": {
    "accelerator": "GPU",
    "colab": {
      "collapsed_sections": [
        "bAUs0rGQbSrh"
      ],
      "gpuType": "T4",
      "provenance": []
    },
    "kernelspec": {
      "display_name": "Python 3",
      "name": "python3"
    },
    "language_info": {
      "codemirror_mode": {
        "name": "ipython",
        "version": 3
      },
      "file_extension": ".py",
      "mimetype": "text/x-python",
      "name": "python",
      "nbconvert_exporter": "python",
      "pygments_lexer": "ipython3",
      "version": "3.10.8"
    }
  },
  "nbformat": 4,
  "nbformat_minor": 0
}